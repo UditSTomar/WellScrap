{
 "cells": [
  {
   "cell_type": "code",
   "execution_count": 1,
   "metadata": {},
   "outputs": [],
   "source": [
    "import requests\n",
    "import pandas as pd\n",
    "from bs4 import BeautifulSoup\n",
    "from dateutil.parser import parse\n",
    "from time import sleep, time\n",
    "from random import randint\n",
    "import re\n",
    "from IPython.core.display import clear_output\n",
    "from warnings import warn\n",
    "import numpy as np\n",
    "from selenium import webdriver \n",
    "import cv2 \n",
    "import pytesseract\n",
    "from PIL import Image"
   ]
  },
  {
   "cell_type": "code",
   "execution_count": 2,
   "metadata": {},
   "outputs": [],
   "source": [
    "def is_captcha_page(soup):\n",
    "    captcha_text=\"Please verify you are human by typing the text below and clicking submit.\"\n",
    "    page_info=soup.find('font',attrs={'class':\"pagebodybold\"})\n",
    "    if page_info!=None and captcha_text in page_info.text:\n",
    "        return True\n",
    "    return False"
   ]
  },
  {
   "cell_type": "code",
   "execution_count": 3,
   "metadata": {},
   "outputs": [],
   "source": [
    "def solve_captcha(company_link):\n",
    "    driver = webdriver.Firefox('/home/udit/projects/chromiumm')\n",
    "    driver.get(company_link)\n",
    "    element = driver.find_element_by_id(\"imgCaptcha\")\n",
    "    element.screenshot('final.png')\n",
    "    img = cv2.imread('final.png')\n",
    "    captcha=pytesseract.image_to_string(img)\n",
    "    \n",
    "    captcha=re.sub(r'\\W+', '', captcha)\n",
    "    captcha_input = driver.find_element_by_xpath(\"//input[@id ='txtCaptcha']\") \n",
    "    captcha_input.send_keys(captcha) \n",
    "\n",
    "    # submit button clicked\n",
    "    driver.find_element_by_xpath(\"//input[@id ='btnRegiser']\").click()\n",
    "    html = driver.page_source\n",
    "    soup = BeautifulSoup(html)\n",
    "    driver.close()\n",
    "    return soup"
   ]
  },
  {
   "cell_type": "code",
   "execution_count": 4,
   "metadata": {},
   "outputs": [],
   "source": [
    "def try_filling(strr,company_info):\n",
    "    try:\n",
    "        global x\n",
    "        eqn= \"{0} = {1}\".format(\"x\",strr)\n",
    "        x = np.nan\n",
    "        exec(eqn,globals())\n",
    "        return x\n",
    "    except IndexError:\n",
    "        return(np.nan)\n",
    "    except ValueError:\n",
    "        return(np.nan)"
   ]
  },
  {
   "cell_type": "code",
   "execution_count": 5,
   "metadata": {},
   "outputs": [],
   "source": [
    "URL = \"https://ibanknet.com/scripts/callreports/fiList.aspx?type=bankmanda\"\n",
    "r = requests.get(URL)\n",
    "soup = BeautifulSoup(r.content, 'html5lib')"
   ]
  },
  {
   "cell_type": "code",
   "execution_count": 6,
   "metadata": {},
   "outputs": [],
   "source": [
    "companies=soup.find_all('a', attrs = {'class':'pagebody'}) "
   ]
  },
  {
   "cell_type": "code",
   "execution_count": null,
   "metadata": {
    "scrolled": false
   },
   "outputs": [],
   "source": [
    "all_companies=[]\n",
    "error_links=[]\n",
    "\n",
    "for company in companies:\n",
    "    company_link=\"https://ibanknet.com/\"+company.get('href')\n",
    "    try:\n",
    "        c = requests.get(company_link)\n",
    "        soup = BeautifulSoup(c.content, 'html5lib')\n",
    "\n",
    "        while(is_captcha_page(soup)):\n",
    "            soup=solve_captcha(company_link)\n",
    "\n",
    "        company_info=[]\n",
    "\n",
    "        for info in soup.find_all('td', attrs = {'class':'instinfo'}):\n",
    "            company_info.append(info.text)\n",
    "\n",
    "\n",
    "        company_inf={}\n",
    "        company_inf[\"company_name\"]=soup.find('font',attrs={'class':\"blockuhilite\"}).text.strip()\n",
    "        company_inf[\"RSSD_ID\"]=try_filling('company_info[0].split()[company_info[0].split().index(\"RSSD\")+2]',company_info)\n",
    "        company_inf['RefinedAddress']=try_filling(\"company_info[1]\",company_info)\n",
    "        company_inf['City']=try_filling('company_info[4].split(\",\")[0].strip()',company_info)\n",
    "        company_inf['State']=try_filling('company_info[4].split(\",\")[1].strip()',company_info)\n",
    "        company_inf['Pin']=try_filling('company_info[4].split(\",\")[2].strip()',company_info)\n",
    "        company_inf['webAddress']=try_filling(\"company_info[7].strip() if ('.com' in company_info[7].strip()) else np.nan\",company_info)\n",
    "        company_inf['YearOpened']=try_filling(\"company_info[company_info.index('Year Opened : ')+1]\",company_info)\n",
    "        company_inf['FiduciaryPowers']=try_filling(\"company_info[company_info.index('Fiduciary Powers : ')+1]\",company_info)\n",
    "        company_inf['EntityType']=try_filling(\"company_info[company_info.index('Entity Type : ')+1]\",company_info)\n",
    "        company_inf['PowersExercised']=try_filling(\"company_info[company_info.index('Powers Exercised : ')+1]\",company_info)\n",
    "        company_inf['MemberFederalReserve']=try_filling(\"company_info[company_info.index('Member Federal Reserve : ')+1]\",company_info)\n",
    "        company_inf['InstitutionType']=try_filling(\"company_info[company_info.index('Institution Type : ')+1]\",company_info)\n",
    "        company_inf['FederalRegulator']=try_filling(\"company_info[company_info.index('Federal Regulator : ')+1]\",company_info)\n",
    "        company_inf['S-Corp']=try_filling(\"company_info[company_info.index('S-Corp : ')+1]\",company_info)\n",
    "        company_inf['Specialization']=try_filling(\"company_info[company_info.index('Specialization : ')+1]\",company_info)\n",
    "\n",
    "        all_companies.append(company_inf)\n",
    "        \n",
    "    except Exception as e:\n",
    "        print(str(e))\n",
    "        error_links.append([company_link,str(e)])"
   ]
  },
  {
   "cell_type": "code",
   "execution_count": null,
   "metadata": {},
   "outputs": [],
   "source": [
    "all_compaies=pd.DataFrame(all_companies)"
   ]
  },
  {
   "cell_type": "code",
   "execution_count": null,
   "metadata": {},
   "outputs": [],
   "source": [
    "all_compaies.head()"
   ]
  },
  {
   "cell_type": "code",
   "execution_count": null,
   "metadata": {},
   "outputs": [],
   "source": [
    "error_links"
   ]
  }
 ],
 "metadata": {
  "kernelspec": {
   "display_name": "Python 3",
   "language": "python",
   "name": "python3"
  },
  "language_info": {
   "codemirror_mode": {
    "name": "ipython",
    "version": 3
   },
   "file_extension": ".py",
   "mimetype": "text/x-python",
   "name": "python",
   "nbconvert_exporter": "python",
   "pygments_lexer": "ipython3",
   "version": "3.7.6"
  }
 },
 "nbformat": 4,
 "nbformat_minor": 4
}
