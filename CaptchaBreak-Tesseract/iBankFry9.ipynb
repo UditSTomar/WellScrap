{
 "cells": [
  {
   "cell_type": "code",
   "execution_count": 1,
   "metadata": {},
   "outputs": [],
   "source": [
    "import requests\n",
    "import pandas as pd\n",
    "from bs4 import BeautifulSoup\n",
    "from dateutil.parser import parse\n",
    "from time import sleep, time\n",
    "from random import randint\n",
    "import re\n",
    "from IPython.core.display import clear_output\n",
    "from warnings import warn\n",
    "import numpy as np\n",
    "from selenium import webdriver \n",
    "import cv2 \n",
    "import pytesseract\n",
    "from PIL import Image"
   ]
  },
  {
   "cell_type": "code",
   "execution_count": 2,
   "metadata": {},
   "outputs": [],
   "source": [
    "def is_captcha_page(soup):\n",
    "    captcha_text=\"Please verify you are human by typing the text below and clicking submit.\"\n",
    "    page_info=soup.find('font',attrs={'class':\"pagebodybold\"})\n",
    "    if page_info!=None and captcha_text in page_info.text:\n",
    "        return True\n",
    "    return False"
   ]
  },
  {
   "cell_type": "code",
   "execution_count": 3,
   "metadata": {},
   "outputs": [],
   "source": [
    "def solve_captcha(company_link):\n",
    "    driver = webdriver.Firefox('/home/udit/projects/chromiumm')\n",
    "    driver.get(company_link)\n",
    "    element = driver.find_element_by_id(\"imgCaptcha\")\n",
    "    element.screenshot('final.png')\n",
    "    img = cv2.imread('final.png')\n",
    "    captcha=pytesseract.image_to_string(img)\n",
    "    \n",
    "    captcha=re.sub(r'\\W+', '', captcha)\n",
    "    captcha_input = driver.find_element_by_xpath(\"//input[@id ='txtCaptcha']\") \n",
    "    captcha_input.send_keys(captcha) \n",
    "\n",
    "    # submit button clicked\n",
    "    driver.find_element_by_xpath(\"//input[@id ='btnRegiser']\").click()\n",
    "    html = driver.page_source\n",
    "    soup = BeautifulSoup(html)\n",
    "    driver.close()\n",
    "    return soup"
   ]
  },
  {
   "cell_type": "code",
   "execution_count": 4,
   "metadata": {},
   "outputs": [],
   "source": [
    "def try_filling(strr,company_info):\n",
    "    try:\n",
    "        global x\n",
    "        eqn= \"{0} = {1}\".format(\"x\",strr)\n",
    "        x = np.nan\n",
    "        exec(eqn,globals())\n",
    "        return x\n",
    "    except IndexError:\n",
    "        return(np.nan)"
   ]
  },
  {
   "cell_type": "code",
   "execution_count": 5,
   "metadata": {},
   "outputs": [],
   "source": [
    "URL = \"https://ibanknet.com/scripts/callreports/fiList.aspx?type=fry9\"\n",
    "r = requests.get(URL)\n",
    "soup = BeautifulSoup(r.content, 'html5lib')"
   ]
  },
  {
   "cell_type": "code",
   "execution_count": 6,
   "metadata": {},
   "outputs": [],
   "source": [
    "companies=soup.find_all('a', attrs = {'class':'pagebody'}) "
   ]
  },
  {
   "cell_type": "code",
   "execution_count": 7,
   "metadata": {
    "scrolled": false
   },
   "outputs": [],
   "source": [
    "all_companies=[]\n",
    "error_links=[]\n",
    "\n",
    "for company in companies:\n",
    "    company_link=\"https://ibanknet.com/\"+company.get('href')\n",
    "    try:\n",
    "        c = requests.get(company_link)\n",
    "        soup = BeautifulSoup(c.content, 'html5lib')\n",
    "\n",
    "        while(is_captcha_page(soup)):\n",
    "            soup=solve_captcha(company_link)\n",
    "\n",
    "        company_info=[]\n",
    "\n",
    "        for info in soup.find_all('td', attrs = {'class':'instinfo'}):\n",
    "            company_info.append(info.text)\n",
    "\n",
    "\n",
    "        company_inf={}\n",
    "        company_inf[\"company_name\"]=soup.find('font',attrs={'class':\"blockuhilite\"}).text.strip()\n",
    "        company_inf[\"RSSD_ID\"]=company_info[0].split()[2]\n",
    "        company_inf['RefinedAddress']=company_info[1]\n",
    "        company_inf['City']=company_info[4].split(\",\")[0].strip()\n",
    "        company_inf['State']=company_info[4].split(\",\")[1].strip()\n",
    "        company_inf['Pin']=company_info[4].split(\",\")[2].strip()\n",
    "        company_inf['YearOpened']=company_info[company_info.index('Year Opened : ')+1]\n",
    "        company_inf['ReserveDistrict']=company_info[company_info.index('Reserve District : ')+1]\n",
    "        company_inf['EntityType']=company_info[company_info.index('Entity Type : ')+1]\n",
    "        company_inf['Structure']=company_info[company_info.index('Structure : ')+1]\n",
    "        company_inf['InstitutionType']=company_info[company_info.index('Institution Type : ')+1]\n",
    "        company_inf['FederalRegulator']=company_info[company_info.index('Federal Regulator : ')+1]\n",
    "        company_inf['S-Corp']=company_info[company_info.index('S-Corp : ')+1]\n",
    "        all_companies.append(company_inf)\n",
    "        \n",
    "    except Exception as e:\n",
    "        error_links.append([company_link,str(e)])"
   ]
  },
  {
   "cell_type": "code",
   "execution_count": 8,
   "metadata": {},
   "outputs": [],
   "source": [
    "all_compaies=pd.DataFrame(all_companies)"
   ]
  },
  {
   "cell_type": "code",
   "execution_count": 9,
   "metadata": {},
   "outputs": [
    {
     "data": {
      "text/html": [
       "<div>\n",
       "<style scoped>\n",
       "    .dataframe tbody tr th:only-of-type {\n",
       "        vertical-align: middle;\n",
       "    }\n",
       "\n",
       "    .dataframe tbody tr th {\n",
       "        vertical-align: top;\n",
       "    }\n",
       "\n",
       "    .dataframe thead th {\n",
       "        text-align: right;\n",
       "    }\n",
       "</style>\n",
       "<table border=\"1\" class=\"dataframe\">\n",
       "  <thead>\n",
       "    <tr style=\"text-align: right;\">\n",
       "      <th></th>\n",
       "      <th>company_name</th>\n",
       "      <th>RSSD_ID</th>\n",
       "      <th>RefinedAddress</th>\n",
       "      <th>City</th>\n",
       "      <th>State</th>\n",
       "      <th>Pin</th>\n",
       "      <th>YearOpened</th>\n",
       "      <th>ReserveDistrict</th>\n",
       "      <th>EntityType</th>\n",
       "      <th>Structure</th>\n",
       "      <th>InstitutionType</th>\n",
       "      <th>FederalRegulator</th>\n",
       "      <th>S-Corp</th>\n",
       "    </tr>\n",
       "  </thead>\n",
       "  <tbody>\n",
       "    <tr>\n",
       "      <th>0</th>\n",
       "      <td>JPMORGAN CHASE &amp; CO.</td>\n",
       "      <td>1039502</td>\n",
       "      <td>383 MADISON AVENUE</td>\n",
       "      <td>NEW YORK</td>\n",
       "      <td>NY</td>\n",
       "      <td>10179</td>\n",
       "      <td>1968</td>\n",
       "      <td>New York</td>\n",
       "      <td>Financial Holding Company - Domestic</td>\n",
       "      <td>Corporation (stock)</td>\n",
       "      <td>Holding Company</td>\n",
       "      <td>FED</td>\n",
       "      <td>No</td>\n",
       "    </tr>\n",
       "    <tr>\n",
       "      <th>1</th>\n",
       "      <td>BANK OF AMERICA CORPORATION</td>\n",
       "      <td>1073757</td>\n",
       "      <td>100 NORTH TRYON STREET</td>\n",
       "      <td>CHARLOTTE</td>\n",
       "      <td>NC</td>\n",
       "      <td>28255</td>\n",
       "      <td>1968</td>\n",
       "      <td>Richmond</td>\n",
       "      <td>Financial Holding Company - Domestic</td>\n",
       "      <td>Corporation (stock)</td>\n",
       "      <td>Holding Company</td>\n",
       "      <td>FED</td>\n",
       "      <td>No</td>\n",
       "    </tr>\n",
       "    <tr>\n",
       "      <th>2</th>\n",
       "      <td>CITIGROUP INC.</td>\n",
       "      <td>1951350</td>\n",
       "      <td>388 GREENWICH STREET</td>\n",
       "      <td>NEW YORK</td>\n",
       "      <td>NY</td>\n",
       "      <td>10013</td>\n",
       "      <td>1912</td>\n",
       "      <td>New York</td>\n",
       "      <td>Financial Holding Company - Domestic</td>\n",
       "      <td>Corporation (stock)</td>\n",
       "      <td>Holding Company</td>\n",
       "      <td>FED</td>\n",
       "      <td>No</td>\n",
       "    </tr>\n",
       "    <tr>\n",
       "      <th>3</th>\n",
       "      <td>WELLS FARGO &amp; COMPANY</td>\n",
       "      <td>1120754</td>\n",
       "      <td>420 MONTGOMERY STREET</td>\n",
       "      <td>SAN FRANCISCO</td>\n",
       "      <td>CA</td>\n",
       "      <td>94104</td>\n",
       "      <td>1929</td>\n",
       "      <td>San Francisco</td>\n",
       "      <td>Financial Holding Company - Domestic</td>\n",
       "      <td>Corporation (stock)</td>\n",
       "      <td>Holding Company</td>\n",
       "      <td>FED</td>\n",
       "      <td>No</td>\n",
       "    </tr>\n",
       "    <tr>\n",
       "      <th>4</th>\n",
       "      <td>GOLDMAN SACHS GROUP, INC., THE</td>\n",
       "      <td>2380443</td>\n",
       "      <td>200 WEST STREET</td>\n",
       "      <td>NEW YORK</td>\n",
       "      <td>NY</td>\n",
       "      <td>10282</td>\n",
       "      <td>1990</td>\n",
       "      <td>New York</td>\n",
       "      <td>Financial Holding Company - Domestic</td>\n",
       "      <td>Corporation (stock)</td>\n",
       "      <td>Securities broker and/or dealer</td>\n",
       "      <td>FED</td>\n",
       "      <td>No</td>\n",
       "    </tr>\n",
       "  </tbody>\n",
       "</table>\n",
       "</div>"
      ],
      "text/plain": [
       "                     company_name  RSSD_ID          RefinedAddress  \\\n",
       "0            JPMORGAN CHASE & CO.  1039502      383 MADISON AVENUE   \n",
       "1     BANK OF AMERICA CORPORATION  1073757  100 NORTH TRYON STREET   \n",
       "2                  CITIGROUP INC.  1951350    388 GREENWICH STREET   \n",
       "3           WELLS FARGO & COMPANY  1120754   420 MONTGOMERY STREET   \n",
       "4  GOLDMAN SACHS GROUP, INC., THE  2380443         200 WEST STREET   \n",
       "\n",
       "            City State    Pin YearOpened ReserveDistrict  \\\n",
       "0       NEW YORK    NY  10179       1968        New York   \n",
       "1      CHARLOTTE    NC  28255       1968        Richmond   \n",
       "2       NEW YORK    NY  10013       1912        New York   \n",
       "3  SAN FRANCISCO    CA  94104       1929   San Francisco   \n",
       "4       NEW YORK    NY  10282       1990        New York   \n",
       "\n",
       "                             EntityType            Structure  \\\n",
       "0  Financial Holding Company - Domestic  Corporation (stock)   \n",
       "1  Financial Holding Company - Domestic  Corporation (stock)   \n",
       "2  Financial Holding Company - Domestic  Corporation (stock)   \n",
       "3  Financial Holding Company - Domestic  Corporation (stock)   \n",
       "4  Financial Holding Company - Domestic  Corporation (stock)   \n",
       "\n",
       "                   InstitutionType FederalRegulator S-Corp  \n",
       "0                  Holding Company              FED     No  \n",
       "1                  Holding Company              FED     No  \n",
       "2                  Holding Company              FED     No  \n",
       "3                  Holding Company              FED     No  \n",
       "4  Securities broker and/or dealer              FED     No  "
      ]
     },
     "execution_count": 9,
     "metadata": {},
     "output_type": "execute_result"
    }
   ],
   "source": [
    "all_compaies.head()"
   ]
  },
  {
   "cell_type": "code",
   "execution_count": 10,
   "metadata": {},
   "outputs": [
    {
     "data": {
      "text/plain": [
       "[]"
      ]
     },
     "execution_count": 10,
     "metadata": {},
     "output_type": "execute_result"
    }
   ],
   "source": [
    "error_links"
   ]
  },
  {
   "cell_type": "code",
   "execution_count": 11,
   "metadata": {},
   "outputs": [],
   "source": [
    "#all_compaies.to_csv(\"ibankFry9.csv\",index=False)"
   ]
  }
 ],
 "metadata": {
  "kernelspec": {
   "display_name": "Python 3",
   "language": "python",
   "name": "python3"
  },
  "language_info": {
   "codemirror_mode": {
    "name": "ipython",
    "version": 3
   },
   "file_extension": ".py",
   "mimetype": "text/x-python",
   "name": "python",
   "nbconvert_exporter": "python",
   "pygments_lexer": "ipython3",
   "version": "3.7.6"
  }
 },
 "nbformat": 4,
 "nbformat_minor": 4
}
