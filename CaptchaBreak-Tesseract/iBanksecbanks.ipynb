{
 "cells": [
  {
   "cell_type": "code",
   "execution_count": 1,
   "metadata": {},
   "outputs": [],
   "source": [
    "import requests\n",
    "import pandas as pd\n",
    "from bs4 import BeautifulSoup\n",
    "from dateutil.parser import parse\n",
    "from time import sleep, time\n",
    "from random import randint\n",
    "import re\n",
    "from IPython.core.display import clear_output\n",
    "from warnings import warn\n",
    "import numpy as np\n",
    "from selenium import webdriver \n",
    "import cv2 \n",
    "import pytesseract\n",
    "from PIL import Image"
   ]
  },
  {
   "cell_type": "code",
   "execution_count": 2,
   "metadata": {},
   "outputs": [],
   "source": [
    "def is_captcha_page(soup):\n",
    "    captcha_text=\"Please verify you are human by typing the text below and clicking submit.\"\n",
    "    page_info=soup.find('font',attrs={'class':\"pagebodybold\"})\n",
    "    if page_info!=None and captcha_text in page_info.text:\n",
    "        return True\n",
    "    return False"
   ]
  },
  {
   "cell_type": "code",
   "execution_count": 3,
   "metadata": {},
   "outputs": [],
   "source": [
    "def solve_captcha(company_link):\n",
    "    driver = webdriver.Firefox('/home/udit/projects/chromiumm')\n",
    "    driver.get(company_link)\n",
    "    element = driver.find_element_by_id(\"imgCaptcha\")\n",
    "    element.screenshot('final.png')\n",
    "    img = cv2.imread('final.png')\n",
    "    captcha=pytesseract.image_to_string(img)\n",
    "    \n",
    "    captcha=re.sub(r'\\W+', '', captcha)\n",
    "    captcha_input = driver.find_element_by_xpath(\"//input[@id ='txtCaptcha']\") \n",
    "    captcha_input.send_keys(captcha) \n",
    "\n",
    "    # submit button clicked\n",
    "    driver.find_element_by_xpath(\"//input[@id ='btnRegiser']\").click()\n",
    "    html = driver.page_source\n",
    "    soup = BeautifulSoup(html)\n",
    "    driver.close()\n",
    "    return soup"
   ]
  },
  {
   "cell_type": "code",
   "execution_count": 4,
   "metadata": {},
   "outputs": [],
   "source": [
    "def try_filling(strr,company_info):\n",
    "    try:\n",
    "        global x\n",
    "        eqn= \"{0} = {1}\".format(\"x\",strr)\n",
    "        x = np.nan\n",
    "        exec(eqn,globals())\n",
    "        return x\n",
    "    except IndexError:\n",
    "        return(np.nan)\n",
    "    except ValueError:\n",
    "        return(np.nan)"
   ]
  },
  {
   "cell_type": "code",
   "execution_count": 5,
   "metadata": {},
   "outputs": [],
   "source": [
    "URL = \"https://ibanknet.com/scripts/callreports/fiList.aspx?type=secbanks\"\n",
    "r = requests.get(URL)\n",
    "soup = BeautifulSoup(r.content, 'html5lib')"
   ]
  },
  {
   "cell_type": "code",
   "execution_count": 6,
   "metadata": {},
   "outputs": [],
   "source": [
    "companies=soup.find_all('a', attrs = {'class':'pagebody'}) "
   ]
  },
  {
   "cell_type": "code",
   "execution_count": 7,
   "metadata": {
    "scrolled": false
   },
   "outputs": [],
   "source": [
    "all_companies=[]\n",
    "error_links=[]\n",
    "\n",
    "for company in companies[60:70]:\n",
    "    company_link=\"https://ibanknet.com/\"+company.get('href')\n",
    "    try:\n",
    "        c = requests.get(company_link)\n",
    "        soup = BeautifulSoup(c.content, 'html5lib')\n",
    "\n",
    "        while(is_captcha_page(soup)):\n",
    "            soup=solve_captcha(company_link)\n",
    "\n",
    "        company_info=[]\n",
    "\n",
    "        for info in soup.find_all('td', attrs = {'class':'instinfo'}):\n",
    "            company_info.append(info.text)\n",
    "\n",
    "\n",
    "        company_inf={}\n",
    "        company_inf[\"company_name\"]=soup.find('font',attrs={'class':\"blockuhilite\"}).text.strip()\n",
    "        company_inf[\"RSSD_ID\"]=company_info[0].split()[company_info[0].split().index(\"RSSD\")+2]\n",
    "        company_inf['RefinedAddress']=company_info[1]\n",
    "        company_inf['City']=company_info[4].split(\",\")[0].strip()\n",
    "        company_inf['State']=company_info[4].split(\",\")[1].strip()\n",
    "        company_inf['Pin']=try_filling('company_info[4].split(\",\")[2].strip()',company_info)\n",
    "        company_inf['webAddress']=company_info[7].strip() if ('.com' in company_info[7].strip()) else np.nan\n",
    "        company_inf['EntityType']=company_info[company_info.index('Entity Type : ')+1]\n",
    "        company_inf['Incorporated']=company_info[company_info.index('Incorporated : ')+1]\n",
    "        company_inf['SIC_Code']=company_info[company_info.index('SIC Code : ')+1]\n",
    "        #company_inf['FederalRegulator']=company_info[company_info.index('Federal Regulator :')+1]\n",
    "        company_inf['FiscalYearEnd']=company_info[company_info.index('Fiscal Year End : ')+1]\n",
    "        company_inf['Regulator']=company_info[company_info.index('Regulator : ')+1]\n",
    "        company_inf['FilerStatus']=company_info[company_info.index('Filer Status : ')+1]\n",
    "\n",
    "        all_companies.append(company_inf)\n",
    "        \n",
    "    except Exception as e:\n",
    "        error_links.append([company_link,str(e)])"
   ]
  },
  {
   "cell_type": "code",
   "execution_count": 8,
   "metadata": {},
   "outputs": [],
   "source": [
    "all_compaies=pd.DataFrame(all_companies)"
   ]
  },
  {
   "cell_type": "code",
   "execution_count": 15,
   "metadata": {},
   "outputs": [
    {
     "data": {
      "text/html": [
       "<div>\n",
       "<style scoped>\n",
       "    .dataframe tbody tr th:only-of-type {\n",
       "        vertical-align: middle;\n",
       "    }\n",
       "\n",
       "    .dataframe tbody tr th {\n",
       "        vertical-align: top;\n",
       "    }\n",
       "\n",
       "    .dataframe thead th {\n",
       "        text-align: right;\n",
       "    }\n",
       "</style>\n",
       "<table border=\"1\" class=\"dataframe\">\n",
       "  <thead>\n",
       "    <tr style=\"text-align: right;\">\n",
       "      <th></th>\n",
       "      <th>company_name</th>\n",
       "      <th>RSSD_ID</th>\n",
       "      <th>RefinedAddress</th>\n",
       "      <th>City</th>\n",
       "      <th>State</th>\n",
       "      <th>Pin</th>\n",
       "      <th>webAddress</th>\n",
       "      <th>EntityType</th>\n",
       "      <th>Incorporated</th>\n",
       "      <th>SIC_Code</th>\n",
       "      <th>FiscalYearEnd</th>\n",
       "      <th>Regulator</th>\n",
       "      <th>FilerStatus</th>\n",
       "    </tr>\n",
       "  </thead>\n",
       "  <tbody>\n",
       "    <tr>\n",
       "      <th>0</th>\n",
       "      <td>ATLANTIC UNION BANKSHARES CORP</td>\n",
       "      <td>1971693</td>\n",
       "      <td>1051 EAST CARY STREET</td>\n",
       "      <td>RICHMOND</td>\n",
       "      <td>VA</td>\n",
       "      <td>23219</td>\n",
       "      <td>NaN</td>\n",
       "      <td>STATE COMMERCIAL BANKS</td>\n",
       "      <td>VA, US</td>\n",
       "      <td>6022</td>\n",
       "      <td>1231</td>\n",
       "      <td>SEC</td>\n",
       "      <td>Large Accelerated</td>\n",
       "    </tr>\n",
       "    <tr>\n",
       "      <th>1</th>\n",
       "      <td>WASHINGTON FEDERAL INC</td>\n",
       "      <td>3065617</td>\n",
       "      <td>425 PIKE STREET</td>\n",
       "      <td>SEATTLE</td>\n",
       "      <td>WA</td>\n",
       "      <td>98101</td>\n",
       "      <td>NaN</td>\n",
       "      <td>NATIONAL COMMERCIAL BANKS</td>\n",
       "      <td>WA, US</td>\n",
       "      <td>6021</td>\n",
       "      <td>930</td>\n",
       "      <td>SEC</td>\n",
       "      <td>Large Accelerated</td>\n",
       "    </tr>\n",
       "    <tr>\n",
       "      <th>2</th>\n",
       "      <td>CADENCE BANCORPORATION</td>\n",
       "      <td>4882802</td>\n",
       "      <td>2800 POST OAK BOULEVARD SUITE 3800</td>\n",
       "      <td>HOUSTON</td>\n",
       "      <td>TX</td>\n",
       "      <td>77056</td>\n",
       "      <td>NaN</td>\n",
       "      <td>NATIONAL COMMERCIAL BANKS</td>\n",
       "      <td>DE, US</td>\n",
       "      <td>6021</td>\n",
       "      <td>1231</td>\n",
       "      <td>SEC</td>\n",
       "      <td>Large Accelerated</td>\n",
       "    </tr>\n",
       "    <tr>\n",
       "      <th>3</th>\n",
       "      <td>SOUTH STATE CORP</td>\n",
       "      <td>1133437</td>\n",
       "      <td>520 GERVAIS STREET</td>\n",
       "      <td>COLUMBIA</td>\n",
       "      <td>SC</td>\n",
       "      <td>29201</td>\n",
       "      <td>NaN</td>\n",
       "      <td>STATE COMMERCIAL BANKS</td>\n",
       "      <td>SC, US</td>\n",
       "      <td>6022</td>\n",
       "      <td>1231</td>\n",
       "      <td>SEC</td>\n",
       "      <td>Large Accelerated</td>\n",
       "    </tr>\n",
       "    <tr>\n",
       "      <th>4</th>\n",
       "      <td>HOPE BANCORP INC</td>\n",
       "      <td>2961879</td>\n",
       "      <td>3200 WILSHIRE BLVD</td>\n",
       "      <td>LOS ANGELES</td>\n",
       "      <td>CA</td>\n",
       "      <td>90010</td>\n",
       "      <td>NaN</td>\n",
       "      <td>NATIONAL COMMERCIAL BANKS</td>\n",
       "      <td></td>\n",
       "      <td>6021</td>\n",
       "      <td>1231</td>\n",
       "      <td>SEC</td>\n",
       "      <td>Large Accelerated</td>\n",
       "    </tr>\n",
       "  </tbody>\n",
       "</table>\n",
       "</div>"
      ],
      "text/plain": [
       "                     company_name  RSSD_ID  \\\n",
       "0  ATLANTIC UNION BANKSHARES CORP  1971693   \n",
       "1          WASHINGTON FEDERAL INC  3065617   \n",
       "2          CADENCE BANCORPORATION  4882802   \n",
       "3                SOUTH STATE CORP  1133437   \n",
       "4                HOPE BANCORP INC  2961879   \n",
       "\n",
       "                       RefinedAddress         City State    Pin  webAddress  \\\n",
       "0               1051 EAST CARY STREET     RICHMOND    VA  23219         NaN   \n",
       "1                     425 PIKE STREET      SEATTLE    WA  98101         NaN   \n",
       "2  2800 POST OAK BOULEVARD SUITE 3800      HOUSTON    TX  77056         NaN   \n",
       "3                  520 GERVAIS STREET     COLUMBIA    SC  29201         NaN   \n",
       "4                  3200 WILSHIRE BLVD  LOS ANGELES    CA  90010         NaN   \n",
       "\n",
       "                  EntityType Incorporated SIC_Code FiscalYearEnd Regulator  \\\n",
       "0     STATE COMMERCIAL BANKS       VA, US     6022          1231       SEC   \n",
       "1  NATIONAL COMMERCIAL BANKS       WA, US     6021           930       SEC   \n",
       "2  NATIONAL COMMERCIAL BANKS       DE, US     6021          1231       SEC   \n",
       "3     STATE COMMERCIAL BANKS       SC, US     6022          1231       SEC   \n",
       "4  NATIONAL COMMERCIAL BANKS                  6021          1231       SEC   \n",
       "\n",
       "         FilerStatus  \n",
       "0  Large Accelerated  \n",
       "1  Large Accelerated  \n",
       "2  Large Accelerated  \n",
       "3  Large Accelerated  \n",
       "4  Large Accelerated  "
      ]
     },
     "execution_count": 15,
     "metadata": {},
     "output_type": "execute_result"
    }
   ],
   "source": [
    "all_compaies.head()"
   ]
  },
  {
   "cell_type": "code",
   "execution_count": 10,
   "metadata": {},
   "outputs": [
    {
     "data": {
      "text/plain": [
       "[]"
      ]
     },
     "execution_count": 10,
     "metadata": {},
     "output_type": "execute_result"
    }
   ],
   "source": [
    "error_links"
   ]
  },
  {
   "cell_type": "code",
   "execution_count": 11,
   "metadata": {},
   "outputs": [],
   "source": [
    "#all_compaies.to_csv(\"ibankSeccanks.csv\",index=False)"
   ]
  },
  {
   "cell_type": "code",
   "execution_count": 12,
   "metadata": {},
   "outputs": [],
   "source": [
    "#len(all_companies)"
   ]
  },
  {
   "cell_type": "code",
   "execution_count": 13,
   "metadata": {},
   "outputs": [],
   "source": [
    "#len(error_links)"
   ]
  }
 ],
 "metadata": {
  "kernelspec": {
   "display_name": "Python 3",
   "language": "python",
   "name": "python3"
  },
  "language_info": {
   "codemirror_mode": {
    "name": "ipython",
    "version": 3
   },
   "file_extension": ".py",
   "mimetype": "text/x-python",
   "name": "python",
   "nbconvert_exporter": "python",
   "pygments_lexer": "ipython3",
   "version": "3.7.6"
  }
 },
 "nbformat": 4,
 "nbformat_minor": 4
}
