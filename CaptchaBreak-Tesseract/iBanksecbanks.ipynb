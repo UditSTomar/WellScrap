{
 "cells": [
  {
   "cell_type": "code",
   "execution_count": 1,
   "metadata": {},
   "outputs": [],
   "source": [
    "import requests\n",
    "import pandas as pd\n",
    "from bs4 import BeautifulSoup\n",
    "from dateutil.parser import parse\n",
    "from time import sleep, time\n",
    "from random import randint\n",
    "import re\n",
    "from IPython.core.display import clear_output\n",
    "from warnings import warn\n",
    "import numpy as np\n",
    "from selenium import webdriver \n",
    "import cv2 \n",
    "import pytesseract\n",
    "from PIL import Image"
   ]
  },
  {
   "cell_type": "code",
   "execution_count": 2,
   "metadata": {},
   "outputs": [],
   "source": [
    "def is_captcha_page(soup):\n",
    "    captcha_text=\"Please verify you are human by typing the text below and clicking submit.\"\n",
    "    page_info=soup.find('font',attrs={'class':\"pagebodybold\"})\n",
    "    if page_info!=None and captcha_text in page_info.text:\n",
    "        return True\n",
    "    return False"
   ]
  },
  {
   "cell_type": "code",
   "execution_count": 3,
   "metadata": {},
   "outputs": [],
   "source": [
    "def solve_captcha(company_link):\n",
    "    driver = webdriver.Firefox('/home/udit/projects/chromiumm')\n",
    "    driver.get(company_link)\n",
    "    element = driver.find_element_by_id(\"imgCaptcha\")\n",
    "    element.screenshot('final.png')\n",
    "    img = cv2.imread('final.png')\n",
    "    captcha=pytesseract.image_to_string(img)\n",
    "    \n",
    "    captcha=re.sub(r'\\W+', '', captcha)\n",
    "    captcha_input = driver.find_element_by_xpath(\"//input[@id ='txtCaptcha']\") \n",
    "    captcha_input.send_keys(captcha) \n",
    "\n",
    "    # submit button clicked\n",
    "    driver.find_element_by_xpath(\"//input[@id ='btnRegiser']\").click()\n",
    "    html = driver.page_source\n",
    "    soup = BeautifulSoup(html)\n",
    "    driver.close()\n",
    "    return soup"
   ]
  },
  {
   "cell_type": "code",
   "execution_count": 35,
   "metadata": {},
   "outputs": [],
   "source": [
    "def try_filling(strr,company_info):\n",
    "    try:\n",
    "        exec(\"print(strr)\")\n",
    "        return exec(\"return strr\")\n",
    "    except IndexError:\n",
    "        return(np.nan)"
   ]
  },
  {
   "cell_type": "code",
   "execution_count": 5,
   "metadata": {},
   "outputs": [],
   "source": [
    "URL = \"https://ibanknet.com/scripts/callreports/fiList.aspx?type=secbanks\"\n",
    "r = requests.get(URL)\n",
    "soup = BeautifulSoup(r.content, 'html5lib')"
   ]
  },
  {
   "cell_type": "code",
   "execution_count": 6,
   "metadata": {},
   "outputs": [],
   "source": [
    "companies=soup.find_all('a', attrs = {'class':'pagebody'}) "
   ]
  },
  {
   "cell_type": "code",
   "execution_count": 7,
   "metadata": {
    "scrolled": false
   },
   "outputs": [
    {
     "ename": "NoSuchWindowException",
     "evalue": "Message: Browsing context has been discarded\n",
     "output_type": "error",
     "traceback": [
      "\u001b[0;31m---------------------------------------------------------------------------\u001b[0m",
      "\u001b[0;31mNoSuchWindowException\u001b[0m                     Traceback (most recent call last)",
      "\u001b[0;32m<ipython-input-7-48739bdf084d>\u001b[0m in \u001b[0;36m<module>\u001b[0;34m\u001b[0m\n\u001b[1;32m      7\u001b[0m \u001b[0;34m\u001b[0m\u001b[0m\n\u001b[1;32m      8\u001b[0m     \u001b[0;32mwhile\u001b[0m\u001b[0;34m(\u001b[0m\u001b[0mis_captcha_page\u001b[0m\u001b[0;34m(\u001b[0m\u001b[0msoup\u001b[0m\u001b[0;34m)\u001b[0m\u001b[0;34m)\u001b[0m\u001b[0;34m:\u001b[0m\u001b[0;34m\u001b[0m\u001b[0;34m\u001b[0m\u001b[0m\n\u001b[0;32m----> 9\u001b[0;31m         \u001b[0msoup\u001b[0m\u001b[0;34m=\u001b[0m\u001b[0msolve_captcha\u001b[0m\u001b[0;34m(\u001b[0m\u001b[0mcompany_link\u001b[0m\u001b[0;34m)\u001b[0m\u001b[0;34m\u001b[0m\u001b[0;34m\u001b[0m\u001b[0m\n\u001b[0m\u001b[1;32m     10\u001b[0m \u001b[0;34m\u001b[0m\u001b[0m\n\u001b[1;32m     11\u001b[0m     \u001b[0mcompany_info\u001b[0m\u001b[0;34m=\u001b[0m\u001b[0;34m[\u001b[0m\u001b[0;34m]\u001b[0m\u001b[0;34m\u001b[0m\u001b[0;34m\u001b[0m\u001b[0m\n",
      "\u001b[0;32m<ipython-input-3-9bdc3b55694d>\u001b[0m in \u001b[0;36msolve_captcha\u001b[0;34m(company_link)\u001b[0m\n\u001b[1;32m      2\u001b[0m     \u001b[0mdriver\u001b[0m \u001b[0;34m=\u001b[0m \u001b[0mwebdriver\u001b[0m\u001b[0;34m.\u001b[0m\u001b[0mFirefox\u001b[0m\u001b[0;34m(\u001b[0m\u001b[0;34m'/home/udit/projects/chromiumm'\u001b[0m\u001b[0;34m)\u001b[0m\u001b[0;34m\u001b[0m\u001b[0;34m\u001b[0m\u001b[0m\n\u001b[1;32m      3\u001b[0m     \u001b[0mdriver\u001b[0m\u001b[0;34m.\u001b[0m\u001b[0mget\u001b[0m\u001b[0;34m(\u001b[0m\u001b[0mcompany_link\u001b[0m\u001b[0;34m)\u001b[0m\u001b[0;34m\u001b[0m\u001b[0;34m\u001b[0m\u001b[0m\n\u001b[0;32m----> 4\u001b[0;31m     \u001b[0melement\u001b[0m \u001b[0;34m=\u001b[0m \u001b[0mdriver\u001b[0m\u001b[0;34m.\u001b[0m\u001b[0mfind_element_by_id\u001b[0m\u001b[0;34m(\u001b[0m\u001b[0;34m\"imgCaptcha\"\u001b[0m\u001b[0;34m)\u001b[0m\u001b[0;34m\u001b[0m\u001b[0;34m\u001b[0m\u001b[0m\n\u001b[0m\u001b[1;32m      5\u001b[0m     \u001b[0melement\u001b[0m\u001b[0;34m.\u001b[0m\u001b[0mscreenshot\u001b[0m\u001b[0;34m(\u001b[0m\u001b[0;34m'final.png'\u001b[0m\u001b[0;34m)\u001b[0m\u001b[0;34m\u001b[0m\u001b[0;34m\u001b[0m\u001b[0m\n\u001b[1;32m      6\u001b[0m     \u001b[0mimg\u001b[0m \u001b[0;34m=\u001b[0m \u001b[0mcv2\u001b[0m\u001b[0;34m.\u001b[0m\u001b[0mimread\u001b[0m\u001b[0;34m(\u001b[0m\u001b[0;34m'final.png'\u001b[0m\u001b[0;34m)\u001b[0m\u001b[0;34m\u001b[0m\u001b[0;34m\u001b[0m\u001b[0m\n",
      "\u001b[0;32m~/anaconda3/lib/python3.7/site-packages/selenium/webdriver/remote/webdriver.py\u001b[0m in \u001b[0;36mfind_element_by_id\u001b[0;34m(self, id_)\u001b[0m\n\u001b[1;32m    358\u001b[0m             \u001b[0melement\u001b[0m \u001b[0;34m=\u001b[0m \u001b[0mdriver\u001b[0m\u001b[0;34m.\u001b[0m\u001b[0mfind_element_by_id\u001b[0m\u001b[0;34m(\u001b[0m\u001b[0;34m'foo'\u001b[0m\u001b[0;34m)\u001b[0m\u001b[0;34m\u001b[0m\u001b[0;34m\u001b[0m\u001b[0m\n\u001b[1;32m    359\u001b[0m         \"\"\"\n\u001b[0;32m--> 360\u001b[0;31m         \u001b[0;32mreturn\u001b[0m \u001b[0mself\u001b[0m\u001b[0;34m.\u001b[0m\u001b[0mfind_element\u001b[0m\u001b[0;34m(\u001b[0m\u001b[0mby\u001b[0m\u001b[0;34m=\u001b[0m\u001b[0mBy\u001b[0m\u001b[0;34m.\u001b[0m\u001b[0mID\u001b[0m\u001b[0;34m,\u001b[0m \u001b[0mvalue\u001b[0m\u001b[0;34m=\u001b[0m\u001b[0mid_\u001b[0m\u001b[0;34m)\u001b[0m\u001b[0;34m\u001b[0m\u001b[0;34m\u001b[0m\u001b[0m\n\u001b[0m\u001b[1;32m    361\u001b[0m \u001b[0;34m\u001b[0m\u001b[0m\n\u001b[1;32m    362\u001b[0m     \u001b[0;32mdef\u001b[0m \u001b[0mfind_elements_by_id\u001b[0m\u001b[0;34m(\u001b[0m\u001b[0mself\u001b[0m\u001b[0;34m,\u001b[0m \u001b[0mid_\u001b[0m\u001b[0;34m)\u001b[0m\u001b[0;34m:\u001b[0m\u001b[0;34m\u001b[0m\u001b[0;34m\u001b[0m\u001b[0m\n",
      "\u001b[0;32m~/anaconda3/lib/python3.7/site-packages/selenium/webdriver/remote/webdriver.py\u001b[0m in \u001b[0;36mfind_element\u001b[0;34m(self, by, value)\u001b[0m\n\u001b[1;32m    976\u001b[0m         return self.execute(Command.FIND_ELEMENT, {\n\u001b[1;32m    977\u001b[0m             \u001b[0;34m'using'\u001b[0m\u001b[0;34m:\u001b[0m \u001b[0mby\u001b[0m\u001b[0;34m,\u001b[0m\u001b[0;34m\u001b[0m\u001b[0;34m\u001b[0m\u001b[0m\n\u001b[0;32m--> 978\u001b[0;31m             'value': value})['value']\n\u001b[0m\u001b[1;32m    979\u001b[0m \u001b[0;34m\u001b[0m\u001b[0m\n\u001b[1;32m    980\u001b[0m     \u001b[0;32mdef\u001b[0m \u001b[0mfind_elements\u001b[0m\u001b[0;34m(\u001b[0m\u001b[0mself\u001b[0m\u001b[0;34m,\u001b[0m \u001b[0mby\u001b[0m\u001b[0;34m=\u001b[0m\u001b[0mBy\u001b[0m\u001b[0;34m.\u001b[0m\u001b[0mID\u001b[0m\u001b[0;34m,\u001b[0m \u001b[0mvalue\u001b[0m\u001b[0;34m=\u001b[0m\u001b[0;32mNone\u001b[0m\u001b[0;34m)\u001b[0m\u001b[0;34m:\u001b[0m\u001b[0;34m\u001b[0m\u001b[0;34m\u001b[0m\u001b[0m\n",
      "\u001b[0;32m~/anaconda3/lib/python3.7/site-packages/selenium/webdriver/remote/webdriver.py\u001b[0m in \u001b[0;36mexecute\u001b[0;34m(self, driver_command, params)\u001b[0m\n\u001b[1;32m    319\u001b[0m         \u001b[0mresponse\u001b[0m \u001b[0;34m=\u001b[0m \u001b[0mself\u001b[0m\u001b[0;34m.\u001b[0m\u001b[0mcommand_executor\u001b[0m\u001b[0;34m.\u001b[0m\u001b[0mexecute\u001b[0m\u001b[0;34m(\u001b[0m\u001b[0mdriver_command\u001b[0m\u001b[0;34m,\u001b[0m \u001b[0mparams\u001b[0m\u001b[0;34m)\u001b[0m\u001b[0;34m\u001b[0m\u001b[0;34m\u001b[0m\u001b[0m\n\u001b[1;32m    320\u001b[0m         \u001b[0;32mif\u001b[0m \u001b[0mresponse\u001b[0m\u001b[0;34m:\u001b[0m\u001b[0;34m\u001b[0m\u001b[0;34m\u001b[0m\u001b[0m\n\u001b[0;32m--> 321\u001b[0;31m             \u001b[0mself\u001b[0m\u001b[0;34m.\u001b[0m\u001b[0merror_handler\u001b[0m\u001b[0;34m.\u001b[0m\u001b[0mcheck_response\u001b[0m\u001b[0;34m(\u001b[0m\u001b[0mresponse\u001b[0m\u001b[0;34m)\u001b[0m\u001b[0;34m\u001b[0m\u001b[0;34m\u001b[0m\u001b[0m\n\u001b[0m\u001b[1;32m    322\u001b[0m             response['value'] = self._unwrap_value(\n\u001b[1;32m    323\u001b[0m                 response.get('value', None))\n",
      "\u001b[0;32m~/anaconda3/lib/python3.7/site-packages/selenium/webdriver/remote/errorhandler.py\u001b[0m in \u001b[0;36mcheck_response\u001b[0;34m(self, response)\u001b[0m\n\u001b[1;32m    240\u001b[0m                 \u001b[0malert_text\u001b[0m \u001b[0;34m=\u001b[0m \u001b[0mvalue\u001b[0m\u001b[0;34m[\u001b[0m\u001b[0;34m'alert'\u001b[0m\u001b[0;34m]\u001b[0m\u001b[0;34m.\u001b[0m\u001b[0mget\u001b[0m\u001b[0;34m(\u001b[0m\u001b[0;34m'text'\u001b[0m\u001b[0;34m)\u001b[0m\u001b[0;34m\u001b[0m\u001b[0;34m\u001b[0m\u001b[0m\n\u001b[1;32m    241\u001b[0m             \u001b[0;32mraise\u001b[0m \u001b[0mexception_class\u001b[0m\u001b[0;34m(\u001b[0m\u001b[0mmessage\u001b[0m\u001b[0;34m,\u001b[0m \u001b[0mscreen\u001b[0m\u001b[0;34m,\u001b[0m \u001b[0mstacktrace\u001b[0m\u001b[0;34m,\u001b[0m \u001b[0malert_text\u001b[0m\u001b[0;34m)\u001b[0m\u001b[0;34m\u001b[0m\u001b[0;34m\u001b[0m\u001b[0m\n\u001b[0;32m--> 242\u001b[0;31m         \u001b[0;32mraise\u001b[0m \u001b[0mexception_class\u001b[0m\u001b[0;34m(\u001b[0m\u001b[0mmessage\u001b[0m\u001b[0;34m,\u001b[0m \u001b[0mscreen\u001b[0m\u001b[0;34m,\u001b[0m \u001b[0mstacktrace\u001b[0m\u001b[0;34m)\u001b[0m\u001b[0;34m\u001b[0m\u001b[0;34m\u001b[0m\u001b[0m\n\u001b[0m\u001b[1;32m    243\u001b[0m \u001b[0;34m\u001b[0m\u001b[0m\n\u001b[1;32m    244\u001b[0m     \u001b[0;32mdef\u001b[0m \u001b[0m_value_or_default\u001b[0m\u001b[0;34m(\u001b[0m\u001b[0mself\u001b[0m\u001b[0;34m,\u001b[0m \u001b[0mobj\u001b[0m\u001b[0;34m,\u001b[0m \u001b[0mkey\u001b[0m\u001b[0;34m,\u001b[0m \u001b[0mdefault\u001b[0m\u001b[0;34m)\u001b[0m\u001b[0;34m:\u001b[0m\u001b[0;34m\u001b[0m\u001b[0;34m\u001b[0m\u001b[0m\n",
      "\u001b[0;31mNoSuchWindowException\u001b[0m: Message: Browsing context has been discarded\n"
     ]
    }
   ],
   "source": [
    "all_companies=[]\n",
    "\n",
    "for company in companies:\n",
    "    company_link=\"https://ibanknet.com/\"+company.get('href')\n",
    "    c = requests.get(company_link)\n",
    "    soup = BeautifulSoup(c.content, 'html5lib')\n",
    "    \n",
    "    while(is_captcha_page(soup)):\n",
    "        soup=solve_captcha(company_link)\n",
    "        \n",
    "    company_info=[]\n",
    "\n",
    "    for info in soup.find_all('td', attrs = {'class':'instinfo'}):\n",
    "        company_info.append(info.text)\n",
    "\n",
    "\n",
    "    company_inf={}\n",
    "    company_inf[\"company_name\"]=soup.find('font',attrs={'class':\"blockuhilite\"}).text.strip()\n",
    "    company_inf[\"RSSD_ID\"]=company_info[0].split()[company_info[0].split().index(\"RSSD\")+2]\n",
    "    company_inf['RefinedAddress']=company_info[1]\n",
    "    company_inf['City']=company_info[4].split(\",\")[0].strip()\n",
    "    company_inf['State']=company_info[4].split(\",\")[1].strip()\n",
    "    company_inf['Pin']=try_filling('company_info[4].split(\",\")[2].strip()',company_info)\n",
    "    company_inf['webAddress']=company_info[7].strip() if ('.com' in company_info[7].strip()) else np.nan\n",
    "    company_inf['EntityType']=company_info[company_info.index('Entity Type : ')+1]\n",
    "    company_inf['Incorporated']=company_info[company_info.index('Incorporated : ')+1]\n",
    "    company_inf['SIC_Code']=company_info[company_info.index('SIC Code : ')+1]\n",
    "    #company_inf['FederalRegulator']=company_info[company_info.index('Federal Regulator :')+1]\n",
    "    company_inf['FiscalYearEnd']=company_info[company_info.index('Fiscal Year End : ')+1]\n",
    "    company_inf['Regulator']=company_info[company_info.index('Regulator : ')+1]\n",
    "    company_inf['FilerStatus']=company_info[company_info.index('Filer Status : ')+1]\n",
    "    \n",
    "    all_companies.append(company_inf)"
   ]
  },
  {
   "cell_type": "code",
   "execution_count": 8,
   "metadata": {},
   "outputs": [],
   "source": [
    "all_compaies=pd.DataFrame(all_companies)"
   ]
  },
  {
   "cell_type": "code",
   "execution_count": 9,
   "metadata": {},
   "outputs": [
    {
     "data": {
      "text/html": [
       "<div>\n",
       "<style scoped>\n",
       "    .dataframe tbody tr th:only-of-type {\n",
       "        vertical-align: middle;\n",
       "    }\n",
       "\n",
       "    .dataframe tbody tr th {\n",
       "        vertical-align: top;\n",
       "    }\n",
       "\n",
       "    .dataframe thead th {\n",
       "        text-align: right;\n",
       "    }\n",
       "</style>\n",
       "<table border=\"1\" class=\"dataframe\">\n",
       "  <thead>\n",
       "    <tr style=\"text-align: right;\">\n",
       "      <th></th>\n",
       "      <th>company_name</th>\n",
       "      <th>RSSD_ID</th>\n",
       "      <th>RefinedAddress</th>\n",
       "      <th>City</th>\n",
       "      <th>State</th>\n",
       "      <th>Pin</th>\n",
       "      <th>webAddress</th>\n",
       "      <th>EntityType</th>\n",
       "      <th>Incorporated</th>\n",
       "      <th>SIC_Code</th>\n",
       "      <th>FiscalYearEnd</th>\n",
       "      <th>Regulator</th>\n",
       "      <th>FilerStatus</th>\n",
       "    </tr>\n",
       "  </thead>\n",
       "  <tbody>\n",
       "    <tr>\n",
       "      <th>0</th>\n",
       "      <td>JPMORGAN CHASE &amp; CO</td>\n",
       "      <td>1039502</td>\n",
       "      <td>383 MADISON AVENUE</td>\n",
       "      <td>NEW YORK</td>\n",
       "      <td>NY</td>\n",
       "      <td>None</td>\n",
       "      <td>NaN</td>\n",
       "      <td>NATIONAL COMMERCIAL BANKS</td>\n",
       "      <td>DE, US</td>\n",
       "      <td>6021</td>\n",
       "      <td>1231</td>\n",
       "      <td>SEC</td>\n",
       "      <td>Large Accelerated</td>\n",
       "    </tr>\n",
       "    <tr>\n",
       "      <th>1</th>\n",
       "      <td>BANK OF AMERICA CORP /DE/</td>\n",
       "      <td>1073757</td>\n",
       "      <td>BANK OF AMERICA CORPORATE CENTER</td>\n",
       "      <td>CHARLOTTE</td>\n",
       "      <td>NC</td>\n",
       "      <td>None</td>\n",
       "      <td>NaN</td>\n",
       "      <td>NATIONAL COMMERCIAL BANKS</td>\n",
       "      <td>DE, US</td>\n",
       "      <td>6021</td>\n",
       "      <td>1231</td>\n",
       "      <td>SEC</td>\n",
       "      <td>Large Accelerated</td>\n",
       "    </tr>\n",
       "    <tr>\n",
       "      <th>2</th>\n",
       "      <td>CITIGROUP INC</td>\n",
       "      <td>1951350</td>\n",
       "      <td>388 GREENWICH STREET</td>\n",
       "      <td>NEW YORK</td>\n",
       "      <td>NY</td>\n",
       "      <td>None</td>\n",
       "      <td>NaN</td>\n",
       "      <td>NATIONAL COMMERCIAL BANKS</td>\n",
       "      <td>DE, US</td>\n",
       "      <td>6021</td>\n",
       "      <td>1231</td>\n",
       "      <td>SEC</td>\n",
       "      <td>Large Accelerated</td>\n",
       "    </tr>\n",
       "    <tr>\n",
       "      <th>3</th>\n",
       "      <td>WELLS FARGO &amp; COMPANY/MN</td>\n",
       "      <td>1120754</td>\n",
       "      <td>420 MONTGOMERY STREET</td>\n",
       "      <td>SAN FRANCISCO</td>\n",
       "      <td>CA</td>\n",
       "      <td>None</td>\n",
       "      <td>NaN</td>\n",
       "      <td>NATIONAL COMMERCIAL BANKS</td>\n",
       "      <td>DE, US</td>\n",
       "      <td>6021</td>\n",
       "      <td>1231</td>\n",
       "      <td>SEC</td>\n",
       "      <td>Large Accelerated</td>\n",
       "    </tr>\n",
       "    <tr>\n",
       "      <th>4</th>\n",
       "      <td>US BANCORP DE</td>\n",
       "      <td>1119794</td>\n",
       "      <td>U.S. BANCORP</td>\n",
       "      <td>MINNEAPOLIS</td>\n",
       "      <td>MN</td>\n",
       "      <td>None</td>\n",
       "      <td>NaN</td>\n",
       "      <td>NATIONAL COMMERCIAL BANKS</td>\n",
       "      <td>DE, US</td>\n",
       "      <td>6021</td>\n",
       "      <td>1231</td>\n",
       "      <td>SEC</td>\n",
       "      <td>Large Accelerated</td>\n",
       "    </tr>\n",
       "  </tbody>\n",
       "</table>\n",
       "</div>"
      ],
      "text/plain": [
       "                company_name  RSSD_ID                    RefinedAddress  \\\n",
       "0        JPMORGAN CHASE & CO  1039502                383 MADISON AVENUE   \n",
       "1  BANK OF AMERICA CORP /DE/  1073757  BANK OF AMERICA CORPORATE CENTER   \n",
       "2              CITIGROUP INC  1951350              388 GREENWICH STREET   \n",
       "3   WELLS FARGO & COMPANY/MN  1120754             420 MONTGOMERY STREET   \n",
       "4              US BANCORP DE  1119794                      U.S. BANCORP   \n",
       "\n",
       "            City State   Pin  webAddress                 EntityType  \\\n",
       "0       NEW YORK    NY  None         NaN  NATIONAL COMMERCIAL BANKS   \n",
       "1      CHARLOTTE    NC  None         NaN  NATIONAL COMMERCIAL BANKS   \n",
       "2       NEW YORK    NY  None         NaN  NATIONAL COMMERCIAL BANKS   \n",
       "3  SAN FRANCISCO    CA  None         NaN  NATIONAL COMMERCIAL BANKS   \n",
       "4    MINNEAPOLIS    MN  None         NaN  NATIONAL COMMERCIAL BANKS   \n",
       "\n",
       "  Incorporated SIC_Code FiscalYearEnd Regulator        FilerStatus  \n",
       "0       DE, US     6021          1231       SEC  Large Accelerated  \n",
       "1       DE, US     6021          1231       SEC  Large Accelerated  \n",
       "2       DE, US     6021          1231       SEC  Large Accelerated  \n",
       "3       DE, US     6021          1231       SEC  Large Accelerated  \n",
       "4       DE, US     6021          1231       SEC  Large Accelerated  "
      ]
     },
     "execution_count": 9,
     "metadata": {},
     "output_type": "execute_result"
    }
   ],
   "source": [
    "all_compaies.head()"
   ]
  },
  {
   "cell_type": "code",
   "execution_count": 10,
   "metadata": {},
   "outputs": [
    {
     "data": {
      "text/plain": [
       "['CIK 927628 | RSSD ID 2277860 | EIN 541719854',\n",
       " '1680 CAPITAL ONE DRIVE',\n",
       " 'Period : ',\n",
       " '2020-03-312019-12-312019-09-302019-06-302019-03-31',\n",
       " 'MCLEAN, VA, 22102',\n",
       " 'Filed : ',\n",
       " '2020-05-01',\n",
       " 'US',\n",
       " 'Document : ',\n",
       " '10-Q',\n",
       " 'Incorporated : ',\n",
       " 'DE, US',\n",
       " 'Filer Status : ',\n",
       " 'Large Accelerated',\n",
       " 'SIC Code : ',\n",
       " '6021',\n",
       " 'Regulator : ',\n",
       " 'SEC',\n",
       " 'Entity Type : ',\n",
       " 'NATIONAL COMMERCIAL BANKS',\n",
       " 'Fiscal Year End : ',\n",
       " '1231',\n",
       " 'Ticker : ',\n",
       " 'COF',\n",
       " '',\n",
       " '\\n\\n\\n\\nRelated Institution\\nFederal Regulator\\n\\n\\n \\xa0CAPITAL ONE FINANCIAL CORPORATION\\nFED\\n\\n\\n \\xa0Capital One, National Association\\nOCC\\n\\n\\n \\xa0Capital One Bank (USA), National Association\\nOCC\\n\\n\\n\\n',\n",
       " 'IS - Income Statement',\n",
       " 'BS - Balance Sheet',\n",
       " 'EQ - Equity',\n",
       " 'CF - Cash Flow',\n",
       " 'CIK 927628 | RSSD ID 2277860 | EIN 541719854',\n",
       " '1680 CAPITAL ONE DRIVE',\n",
       " 'Period : ',\n",
       " '2020-03-312019-12-312019-09-302019-06-302019-03-31',\n",
       " 'MCLEAN, VA, 22102',\n",
       " 'Filed : ',\n",
       " '2020-05-01',\n",
       " 'US',\n",
       " 'Document : ',\n",
       " '10-Q',\n",
       " 'Incorporated : ',\n",
       " 'DE, US',\n",
       " 'Filer Status : ',\n",
       " 'Large Accelerated',\n",
       " 'SIC Code : ',\n",
       " '6021',\n",
       " 'Regulator : ',\n",
       " 'SEC',\n",
       " 'Entity Type : ',\n",
       " 'NATIONAL COMMERCIAL BANKS',\n",
       " 'Fiscal Year End : ',\n",
       " '1231',\n",
       " 'Ticker : ',\n",
       " 'COF',\n",
       " '',\n",
       " '\\n\\n\\n\\nRelated Institution\\nFederal Regulator\\n\\n\\n \\xa0CAPITAL ONE FINANCIAL CORPORATION\\nFED\\n\\n\\n \\xa0Capital One, National Association\\nOCC\\n\\n\\n \\xa0Capital One Bank (USA), National Association\\nOCC\\n\\n\\n\\n',\n",
       " 'IS - Income Statement',\n",
       " 'BS - Balance Sheet',\n",
       " 'EQ - Equity',\n",
       " 'CF - Cash Flow']"
      ]
     },
     "execution_count": 10,
     "metadata": {},
     "output_type": "execute_result"
    }
   ],
   "source": [
    "company_info"
   ]
  },
  {
   "cell_type": "code",
   "execution_count": 36,
   "metadata": {},
   "outputs": [
    {
     "name": "stdout",
     "output_type": "stream",
     "text": [
      "22102\n"
     ]
    }
   ],
   "source": [
    "a=try_filling(company_info[4].split(\",\")[2].strip(),company_info)"
   ]
  },
  {
   "cell_type": "code",
   "execution_count": 37,
   "metadata": {},
   "outputs": [],
   "source": [
    "a"
   ]
  },
  {
   "cell_type": "code",
   "execution_count": 38,
   "metadata": {},
   "outputs": [],
   "source": [
    "a"
   ]
  },
  {
   "cell_type": "code",
   "execution_count": null,
   "metadata": {},
   "outputs": [],
   "source": []
  }
 ],
 "metadata": {
  "kernelspec": {
   "display_name": "Python 3",
   "language": "python",
   "name": "python3"
  },
  "language_info": {
   "codemirror_mode": {
    "name": "ipython",
    "version": 3
   },
   "file_extension": ".py",
   "mimetype": "text/x-python",
   "name": "python",
   "nbconvert_exporter": "python",
   "pygments_lexer": "ipython3",
   "version": "3.7.6"
  }
 },
 "nbformat": 4,
 "nbformat_minor": 4
}
