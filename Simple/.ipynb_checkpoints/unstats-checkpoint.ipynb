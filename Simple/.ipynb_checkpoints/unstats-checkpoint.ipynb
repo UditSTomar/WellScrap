{
 "cells": [
  {
   "cell_type": "code",
   "execution_count": 1,
   "metadata": {},
   "outputs": [],
   "source": [
    "import requests\n",
    "import pandas as pd\n",
    "from bs4 import BeautifulSoup\n",
    "from dateutil.parser import parse\n",
    "from time import sleep, time\n",
    "from random import randint\n",
    "import re"
   ]
  },
  {
   "cell_type": "code",
   "execution_count": 2,
   "metadata": {},
   "outputs": [],
   "source": [
    "URL=\"https://unstats.un.org/unsd/iiss/List-of-International-Organizations.ashx\"\n",
    "r = requests.get(URL)\n",
    "soup = BeautifulSoup(r.content, 'html5lib')\n",
    "company_content=soup.find('div',attrs={'id':\"PageContentDiv\"})\n",
    "all_company_tags=company_content.find_all('a',attrs={'class':\"pagelink\"})\n"
   ]
  },
  {
   "cell_type": "code",
   "execution_count": 3,
   "metadata": {},
   "outputs": [],
   "source": [
    "all_companies=[]\n",
    "for company in all_company_tags:\n",
    "    all_companies.append(company.get(\"title\").strip())"
   ]
  },
  {
   "cell_type": "code",
   "execution_count": 4,
   "metadata": {},
   "outputs": [
    {
     "data": {
      "text/plain": [
       "['Bank for International Settlements (BIS)',\n",
       " 'European Central Bank (ECB)',\n",
       " 'Food and Agriculture Organization of the United Nations (FAO)',\n",
       " 'International Labour Organization (ILO)',\n",
       " 'International Monetary Fund (IMF)',\n",
       " 'International Telecommunication Union (ITU)',\n",
       " 'Organization for Economic Cooperation and Development (OECD)',\n",
       " 'Paris 21 (P21)',\n",
       " 'Statistical Office of the European Union (EUROSTAT)',\n",
       " 'United Nations Conference on Trade and Development (UNCTAD)',\n",
       " 'United Nations Economic and Social Commission for Asia and the Pacific (UNESCAP)',\n",
       " 'United Nations Economic Commission for Africa (UNECA)',\n",
       " 'United Nations Economic Commission for Europe (UNECE)',\n",
       " 'United Nations Economic Commission for Latin America and the Caribbean (UNECLAC)',\n",
       " 'United Nations Economic and Social Commission for Western Asia (UNESCWA)',\n",
       " 'United Nations Educational, Scientific and Cultural Organization (UNESCO)',\n",
       " 'United Nations Human Settlements Programme (UN-Habitat)',\n",
       " 'United Nations Industrial Development Organization (UNIDO)',\n",
       " 'United Nations Office on Drugs and Crime (UNODC)',\n",
       " 'United Nations Statistics Division (UNSD)',\n",
       " 'World Bank (WB)',\n",
       " 'World Health Organization (WHO)',\n",
       " 'World Tourism Organization (UNWTO)',\n",
       " 'World Trade Organization (WTO)']"
      ]
     },
     "execution_count": 4,
     "metadata": {},
     "output_type": "execute_result"
    }
   ],
   "source": [
    "all_companies"
   ]
  }
 ],
 "metadata": {
  "kernelspec": {
   "display_name": "Python 3",
   "language": "python",
   "name": "python3"
  },
  "language_info": {
   "codemirror_mode": {
    "name": "ipython",
    "version": 3
   },
   "file_extension": ".py",
   "mimetype": "text/x-python",
   "name": "python",
   "nbconvert_exporter": "python",
   "pygments_lexer": "ipython3",
   "version": "3.7.6"
  }
 },
 "nbformat": 4,
 "nbformat_minor": 4
}
