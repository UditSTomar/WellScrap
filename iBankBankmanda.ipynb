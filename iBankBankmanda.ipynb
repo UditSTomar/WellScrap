{
 "cells": [
  {
   "cell_type": "code",
   "execution_count": 1,
   "metadata": {},
   "outputs": [],
   "source": [
    "import requests\n",
    "import pandas as pd\n",
    "from bs4 import BeautifulSoup\n",
    "from dateutil.parser import parse\n",
    "from time import sleep, time\n",
    "from random import randint\n",
    "import re\n",
    "from IPython.core.display import clear_output\n",
    "from warnings import warn\n",
    "import numpy as np\n",
    "from selenium import webdriver \n",
    "import cv2 \n",
    "import pytesseract\n",
    "from PIL import Image"
   ]
  },
  {
   "cell_type": "code",
   "execution_count": 2,
   "metadata": {},
   "outputs": [],
   "source": [
    "def is_captcha_page(soup):\n",
    "    captcha_text=\"Please verify you are human by typing the text below and clicking submit.\"\n",
    "    page_info=soup.find('font',attrs={'class':\"pagebodybold\"})\n",
    "    if page_info!=None and captcha_text in page_info.text:\n",
    "        return True\n",
    "    return False"
   ]
  },
  {
   "cell_type": "code",
   "execution_count": 3,
   "metadata": {},
   "outputs": [],
   "source": [
    "def solve_captcha(company_link):\n",
    "    driver = webdriver.Firefox('/home/udit/projects/chromiumm')\n",
    "    driver.get(company_link)\n",
    "    element = driver.find_element_by_id(\"imgCaptcha\")\n",
    "    element.screenshot('final.png')\n",
    "    img = cv2.imread('final.png')\n",
    "    captcha=pytesseract.image_to_string(img)\n",
    "    \n",
    "    captcha=re.sub(r'\\W+', '', captcha)\n",
    "    captcha_input = driver.find_element_by_xpath(\"//input[@id ='txtCaptcha']\") \n",
    "    captcha_input.send_keys(captcha) \n",
    "\n",
    "    # submit button clicked\n",
    "    driver.find_element_by_xpath(\"//input[@id ='btnRegiser']\").click()\n",
    "    html = driver.page_source\n",
    "    soup = BeautifulSoup(html)\n",
    "    driver.close()\n",
    "    return soup"
   ]
  },
  {
   "cell_type": "code",
   "execution_count": 4,
   "metadata": {},
   "outputs": [],
   "source": [
    "URL = \"https://ibanknet.com/scripts/callreports/fiList.aspx?type=bankmanda\"\n",
    "r = requests.get(URL)\n",
    "soup = BeautifulSoup(r.content, 'html5lib')"
   ]
  },
  {
   "cell_type": "code",
   "execution_count": 5,
   "metadata": {},
   "outputs": [],
   "source": [
    "companies=soup.find_all('a', attrs = {'class':'pagebody'}) "
   ]
  },
  {
   "cell_type": "code",
   "execution_count": 6,
   "metadata": {
    "scrolled": false
   },
   "outputs": [],
   "source": [
    "all_companies=[]\n",
    "\n",
    "for company in companies:\n",
    "    company_link=\"https://ibanknet.com/\"+company.get('href')\n",
    "    c = requests.get(company_link)\n",
    "    soup = BeautifulSoup(c.content, 'html5lib')\n",
    "    \n",
    "    while(is_captcha_page(soup)):\n",
    "        soup=solve_captcha(company_link)\n",
    "        \n",
    "    company_info=[]\n",
    "\n",
    "    for info in soup.find_all('td', attrs = {'class':'instinfo'}):\n",
    "        company_info.append(info.text)\n",
    "\n",
    "\n",
    "    company_inf={}\n",
    "    company_inf[\"company_name\"]=soup.find('font',attrs={'class':\"blockuhilite\"}).text.strip()\n",
    "    company_inf[\"RSSD_ID\"]=company_info[0].split()[company_info[0].split().index(\"RSSD\")+2]\n",
    "    company_inf['RefinedAddress']=company_info[1]\n",
    "    company_inf['City']=company_info[4].split(\",\")[0].strip()\n",
    "    company_inf['State']=company_info[4].split(\",\")[1].strip()\n",
    "    company_inf['Pin']=company_info[4].split(\",\")[2].strip()\n",
    "    company_inf['webAddress']=company_info[7].strip() if ('.com' in company_info[7].strip()) else np.nan\n",
    "    company_inf['YearOpened']=company_info[company_info.index('Year Opened : ')+1]\n",
    "    company_inf['FiduciaryPowers']=company_info[company_info.index('Fiduciary Powers : ')+1]\n",
    "    company_inf['EntityType']=company_info[company_info.index('Entity Type : ')+1]\n",
    "    company_inf['PowersExercised']=company_info[company_info.index('Powers Exercised : ')+1]\n",
    "    company_inf['MemberFederalReserve']=company_info[company_info.index('Member Federal Reserve : ')+1]\n",
    "    company_inf['InstitutionType']=company_info[company_info.index('Institution Type : ')+1]\n",
    "    company_inf['FederalRegulator']=company_info[company_info.index('Federal Regulator : ')+1]\n",
    "    company_inf['S-Corp']=company_info[company_info.index('S-Corp : ')+1]\n",
    "    company_inf['Specialization']=company_info[company_info.index('Specialization : ')+1]\n",
    "    \n",
    "    all_companies.append(company_inf)"
   ]
  },
  {
   "cell_type": "code",
   "execution_count": 7,
   "metadata": {},
   "outputs": [],
   "source": [
    "all_compaies=pd.DataFrame(all_companies)"
   ]
  },
  {
   "cell_type": "code",
   "execution_count": 8,
   "metadata": {},
   "outputs": [
    {
     "data": {
      "text/html": [
       "<div>\n",
       "<style scoped>\n",
       "    .dataframe tbody tr th:only-of-type {\n",
       "        vertical-align: middle;\n",
       "    }\n",
       "\n",
       "    .dataframe tbody tr th {\n",
       "        vertical-align: top;\n",
       "    }\n",
       "\n",
       "    .dataframe thead th {\n",
       "        text-align: right;\n",
       "    }\n",
       "</style>\n",
       "<table border=\"1\" class=\"dataframe\">\n",
       "  <thead>\n",
       "    <tr style=\"text-align: right;\">\n",
       "      <th></th>\n",
       "      <th>company_name</th>\n",
       "      <th>RSSD_ID</th>\n",
       "      <th>RefinedAddress</th>\n",
       "      <th>City</th>\n",
       "      <th>State</th>\n",
       "      <th>Pin</th>\n",
       "      <th>webAddress</th>\n",
       "      <th>YearOpened</th>\n",
       "      <th>FiduciaryPowers</th>\n",
       "      <th>EntityType</th>\n",
       "      <th>PowersExercised</th>\n",
       "      <th>MemberFederalReserve</th>\n",
       "      <th>InstitutionType</th>\n",
       "      <th>FederalRegulator</th>\n",
       "      <th>S-Corp</th>\n",
       "      <th>Specialization</th>\n",
       "    </tr>\n",
       "  </thead>\n",
       "  <tbody>\n",
       "    <tr>\n",
       "      <th>0</th>\n",
       "      <td>The Poplar Grove State Bank</td>\n",
       "      <td>808448</td>\n",
       "      <td>109 North State Street</td>\n",
       "      <td>Poplar Grove</td>\n",
       "      <td>Illinois</td>\n",
       "      <td>61065</td>\n",
       "      <td>poplargrovestatebank.com</td>\n",
       "      <td>1946</td>\n",
       "      <td>No</td>\n",
       "      <td>State</td>\n",
       "      <td>No</td>\n",
       "      <td>No</td>\n",
       "      <td>Commercial bank</td>\n",
       "      <td>FDIC</td>\n",
       "      <td>Yes</td>\n",
       "      <td>Agricultural  Specialization</td>\n",
       "    </tr>\n",
       "  </tbody>\n",
       "</table>\n",
       "</div>"
      ],
      "text/plain": [
       "                  company_name RSSD_ID          RefinedAddress          City  \\\n",
       "0  The Poplar Grove State Bank  808448  109 North State Street  Poplar Grove   \n",
       "\n",
       "      State    Pin                webAddress YearOpened FiduciaryPowers  \\\n",
       "0  Illinois  61065  poplargrovestatebank.com       1946              No   \n",
       "\n",
       "  EntityType PowersExercised MemberFederalReserve  InstitutionType  \\\n",
       "0      State              No                   No  Commercial bank   \n",
       "\n",
       "  FederalRegulator S-Corp                Specialization  \n",
       "0             FDIC    Yes  Agricultural  Specialization  "
      ]
     },
     "execution_count": 8,
     "metadata": {},
     "output_type": "execute_result"
    }
   ],
   "source": [
    "all_compaies.head()"
   ]
  }
 ],
 "metadata": {
  "kernelspec": {
   "display_name": "Python 3",
   "language": "python",
   "name": "python3"
  },
  "language_info": {
   "codemirror_mode": {
    "name": "ipython",
    "version": 3
   },
   "file_extension": ".py",
   "mimetype": "text/x-python",
   "name": "python",
   "nbconvert_exporter": "python",
   "pygments_lexer": "ipython3",
   "version": "3.7.6"
  }
 },
 "nbformat": 4,
 "nbformat_minor": 4
}
